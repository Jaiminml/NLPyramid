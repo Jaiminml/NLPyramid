{
  "cells": [
    {
      "cell_type": "markdown",
      "metadata": {
        "id": "view-in-github",
        "colab_type": "text"
      },
      "source": [
        "<a href=\"https://colab.research.google.com/github/Jaiminml/NLPyramid/blob/main/FastText.ipynb\" target=\"_parent\"><img src=\"https://colab.research.google.com/assets/colab-badge.svg\" alt=\"Open In Colab\"/></a>"
      ]
    },
    {
      "cell_type": "code",
      "execution_count": 16,
      "metadata": {
        "colab": {
          "base_uri": "https://localhost:8080/"
        },
        "id": "pku35etZfLlp",
        "outputId": "2961c977-9ae5-4b4b-8eba-3145d3c19253"
      },
      "outputs": [
        {
          "output_type": "stream",
          "name": "stderr",
          "text": [
            "[nltk_data] Downloading package stopwords to /root/nltk_data...\n",
            "[nltk_data]   Package stopwords is already up-to-date!\n",
            "[nltk_data] Downloading package wordnet to /root/nltk_data...\n",
            "[nltk_data]   Package wordnet is already up-to-date!\n",
            "[nltk_data] Downloading package omw-1.4 to /root/nltk_data...\n",
            "[nltk_data]   Package omw-1.4 is already up-to-date!\n"
          ]
        }
      ],
      "source": [
        "# Import all necessary libraries to implement FastText\n",
        "import pandas as pd\n",
        "import numpy as np\n",
        "import re\n",
        "from tqdm import tqdm\n",
        " \n",
        "import nltk\n",
        "nltk.download('stopwords')\n",
        "en_stop = set(nltk.corpus.stopwords.words('english'))\n",
        "\n",
        "# Lemmatization\n",
        "from nltk.stem import WordNetLemmatizer\n",
        "nltk.download('wordnet')\n",
        "stemmer = WordNetLemmatizer()\n",
        "nltk.download('omw-1.4')\n",
        "\n",
        "from gensim.models.fasttext import FastText\n",
        "from sklearn.decomposition import PCA\n",
        "from sklearn.manifold import TSNE\n",
        "import seaborn as sns\n",
        "import matplotlib.pyplot as plt\n"
      ]
    },
    {
      "cell_type": "markdown",
      "metadata": {
        "id": "DwgsBykKj8in"
      },
      "source": [
        "We will use Amazon Review dataset from kaggle for training the model."
      ]
    },
    {
      "cell_type": "code",
      "execution_count": 17,
      "metadata": {
        "colab": {
          "base_uri": "https://localhost:8080/",
          "height": 890
        },
        "id": "q_0Tx0vWj-z-",
        "outputId": "2eeb2ca8-e34b-4850-b5d5-0fd16ee7d5cf"
      },
      "outputs": [
        {
          "output_type": "stream",
          "name": "stderr",
          "text": [
            "/usr/local/lib/python3.7/dist-packages/IPython/core/interactiveshell.py:2882: FutureWarning: The error_bad_lines argument has been deprecated and will be removed in a future version.\n",
            "\n",
            "\n",
            "  exec(code_obj, self.user_global_ns, self.user_ns)\n"
          ]
        },
        {
          "output_type": "execute_result",
          "data": {
            "text/plain": [
              "                     id                                               name  \\\n",
              "0  AVqkIhwDv8e3D1O-lebb  All-New Fire HD 8 Tablet, 8 HD Display, Wi-Fi,...   \n",
              "1  AVqkIhwDv8e3D1O-lebb  All-New Fire HD 8 Tablet, 8 HD Display, Wi-Fi,...   \n",
              "2  AVqkIhwDv8e3D1O-lebb  All-New Fire HD 8 Tablet, 8 HD Display, Wi-Fi,...   \n",
              "3  AVqkIhwDv8e3D1O-lebb  All-New Fire HD 8 Tablet, 8 HD Display, Wi-Fi,...   \n",
              "4  AVqkIhwDv8e3D1O-lebb  All-New Fire HD 8 Tablet, 8 HD Display, Wi-Fi,...   \n",
              "\n",
              "        asins   brand                                         categories  \\\n",
              "0  B01AHB9CN2  Amazon  Electronics,iPad & Tablets,All Tablets,Fire Ta...   \n",
              "1  B01AHB9CN2  Amazon  Electronics,iPad & Tablets,All Tablets,Fire Ta...   \n",
              "2  B01AHB9CN2  Amazon  Electronics,iPad & Tablets,All Tablets,Fire Ta...   \n",
              "3  B01AHB9CN2  Amazon  Electronics,iPad & Tablets,All Tablets,Fire Ta...   \n",
              "4  B01AHB9CN2  Amazon  Electronics,iPad & Tablets,All Tablets,Fire Ta...   \n",
              "\n",
              "                                                keys manufacturer  \\\n",
              "0  841667104676,amazon/53004484,amazon/b01ahb9cn2...       Amazon   \n",
              "1  841667104676,amazon/53004484,amazon/b01ahb9cn2...       Amazon   \n",
              "2  841667104676,amazon/53004484,amazon/b01ahb9cn2...       Amazon   \n",
              "3  841667104676,amazon/53004484,amazon/b01ahb9cn2...       Amazon   \n",
              "4  841667104676,amazon/53004484,amazon/b01ahb9cn2...       Amazon   \n",
              "\n",
              "               reviews.date     reviews.dateAdded  \\\n",
              "0  2017-01-13T00:00:00.000Z  2017-07-03T23:33:15Z   \n",
              "1  2017-01-13T00:00:00.000Z  2017-07-03T23:33:15Z   \n",
              "2  2017-01-13T00:00:00.000Z  2017-07-03T23:33:15Z   \n",
              "3  2017-01-13T00:00:00.000Z  2017-07-03T23:33:15Z   \n",
              "4  2017-01-12T00:00:00.000Z  2017-07-03T23:33:15Z   \n",
              "\n",
              "                                    reviews.dateSeen  ... reviews.doRecommend  \\\n",
              "0  2017-06-07T09:04:00.000Z,2017-04-30T00:45:00.000Z  ...                True   \n",
              "1  2017-06-07T09:04:00.000Z,2017-04-30T00:45:00.000Z  ...                True   \n",
              "2  2017-06-07T09:04:00.000Z,2017-04-30T00:45:00.000Z  ...                True   \n",
              "3  2017-06-07T09:04:00.000Z,2017-04-30T00:45:00.000Z  ...                True   \n",
              "4  2017-06-07T09:04:00.000Z,2017-04-30T00:45:00.000Z  ...                True   \n",
              "\n",
              "  reviews.id  reviews.numHelpful  reviews.rating  \\\n",
              "0        NaN                 0.0             5.0   \n",
              "1        NaN                 0.0             5.0   \n",
              "2        NaN                 0.0             5.0   \n",
              "3        NaN                 0.0             4.0   \n",
              "4        NaN                 0.0             5.0   \n",
              "\n",
              "                                  reviews.sourceURLs  \\\n",
              "0  http://reviews.bestbuy.com/3545/5620406/review...   \n",
              "1  http://reviews.bestbuy.com/3545/5620406/review...   \n",
              "2  http://reviews.bestbuy.com/3545/5620406/review...   \n",
              "3  http://reviews.bestbuy.com/3545/5620406/review...   \n",
              "4  http://reviews.bestbuy.com/3545/5620406/review...   \n",
              "\n",
              "                                        reviews.text  \\\n",
              "0  This product so far has not disappointed. My c...   \n",
              "1  great for beginner or experienced person. Boug...   \n",
              "2  Inexpensive tablet for him to use and learn on...   \n",
              "3  I've had my Fire HD 8 two weeks now and I love...   \n",
              "4  I bought this for my grand daughter when she c...   \n",
              "\n",
              "                             reviews.title reviews.userCity  \\\n",
              "0                                   Kindle              NaN   \n",
              "1                                very fast              NaN   \n",
              "2  Beginner tablet for our 9 year old son.              NaN   \n",
              "3                                  Good!!!              NaN   \n",
              "4                Fantastic Tablet for kids              NaN   \n",
              "\n",
              "   reviews.userProvince  reviews.username  \n",
              "0                   NaN           Adapter  \n",
              "1                   NaN            truman  \n",
              "2                   NaN             DaveZ  \n",
              "3                   NaN            Shacks  \n",
              "4                   NaN         explore42  \n",
              "\n",
              "[5 rows x 21 columns]"
            ],
            "text/html": [
              "\n",
              "  <div id=\"df-b6e77cad-480a-4c79-ae8d-42d4c3ece666\">\n",
              "    <div class=\"colab-df-container\">\n",
              "      <div>\n",
              "<style scoped>\n",
              "    .dataframe tbody tr th:only-of-type {\n",
              "        vertical-align: middle;\n",
              "    }\n",
              "\n",
              "    .dataframe tbody tr th {\n",
              "        vertical-align: top;\n",
              "    }\n",
              "\n",
              "    .dataframe thead th {\n",
              "        text-align: right;\n",
              "    }\n",
              "</style>\n",
              "<table border=\"1\" class=\"dataframe\">\n",
              "  <thead>\n",
              "    <tr style=\"text-align: right;\">\n",
              "      <th></th>\n",
              "      <th>id</th>\n",
              "      <th>name</th>\n",
              "      <th>asins</th>\n",
              "      <th>brand</th>\n",
              "      <th>categories</th>\n",
              "      <th>keys</th>\n",
              "      <th>manufacturer</th>\n",
              "      <th>reviews.date</th>\n",
              "      <th>reviews.dateAdded</th>\n",
              "      <th>reviews.dateSeen</th>\n",
              "      <th>...</th>\n",
              "      <th>reviews.doRecommend</th>\n",
              "      <th>reviews.id</th>\n",
              "      <th>reviews.numHelpful</th>\n",
              "      <th>reviews.rating</th>\n",
              "      <th>reviews.sourceURLs</th>\n",
              "      <th>reviews.text</th>\n",
              "      <th>reviews.title</th>\n",
              "      <th>reviews.userCity</th>\n",
              "      <th>reviews.userProvince</th>\n",
              "      <th>reviews.username</th>\n",
              "    </tr>\n",
              "  </thead>\n",
              "  <tbody>\n",
              "    <tr>\n",
              "      <th>0</th>\n",
              "      <td>AVqkIhwDv8e3D1O-lebb</td>\n",
              "      <td>All-New Fire HD 8 Tablet, 8 HD Display, Wi-Fi,...</td>\n",
              "      <td>B01AHB9CN2</td>\n",
              "      <td>Amazon</td>\n",
              "      <td>Electronics,iPad &amp; Tablets,All Tablets,Fire Ta...</td>\n",
              "      <td>841667104676,amazon/53004484,amazon/b01ahb9cn2...</td>\n",
              "      <td>Amazon</td>\n",
              "      <td>2017-01-13T00:00:00.000Z</td>\n",
              "      <td>2017-07-03T23:33:15Z</td>\n",
              "      <td>2017-06-07T09:04:00.000Z,2017-04-30T00:45:00.000Z</td>\n",
              "      <td>...</td>\n",
              "      <td>True</td>\n",
              "      <td>NaN</td>\n",
              "      <td>0.0</td>\n",
              "      <td>5.0</td>\n",
              "      <td>http://reviews.bestbuy.com/3545/5620406/review...</td>\n",
              "      <td>This product so far has not disappointed. My c...</td>\n",
              "      <td>Kindle</td>\n",
              "      <td>NaN</td>\n",
              "      <td>NaN</td>\n",
              "      <td>Adapter</td>\n",
              "    </tr>\n",
              "    <tr>\n",
              "      <th>1</th>\n",
              "      <td>AVqkIhwDv8e3D1O-lebb</td>\n",
              "      <td>All-New Fire HD 8 Tablet, 8 HD Display, Wi-Fi,...</td>\n",
              "      <td>B01AHB9CN2</td>\n",
              "      <td>Amazon</td>\n",
              "      <td>Electronics,iPad &amp; Tablets,All Tablets,Fire Ta...</td>\n",
              "      <td>841667104676,amazon/53004484,amazon/b01ahb9cn2...</td>\n",
              "      <td>Amazon</td>\n",
              "      <td>2017-01-13T00:00:00.000Z</td>\n",
              "      <td>2017-07-03T23:33:15Z</td>\n",
              "      <td>2017-06-07T09:04:00.000Z,2017-04-30T00:45:00.000Z</td>\n",
              "      <td>...</td>\n",
              "      <td>True</td>\n",
              "      <td>NaN</td>\n",
              "      <td>0.0</td>\n",
              "      <td>5.0</td>\n",
              "      <td>http://reviews.bestbuy.com/3545/5620406/review...</td>\n",
              "      <td>great for beginner or experienced person. Boug...</td>\n",
              "      <td>very fast</td>\n",
              "      <td>NaN</td>\n",
              "      <td>NaN</td>\n",
              "      <td>truman</td>\n",
              "    </tr>\n",
              "    <tr>\n",
              "      <th>2</th>\n",
              "      <td>AVqkIhwDv8e3D1O-lebb</td>\n",
              "      <td>All-New Fire HD 8 Tablet, 8 HD Display, Wi-Fi,...</td>\n",
              "      <td>B01AHB9CN2</td>\n",
              "      <td>Amazon</td>\n",
              "      <td>Electronics,iPad &amp; Tablets,All Tablets,Fire Ta...</td>\n",
              "      <td>841667104676,amazon/53004484,amazon/b01ahb9cn2...</td>\n",
              "      <td>Amazon</td>\n",
              "      <td>2017-01-13T00:00:00.000Z</td>\n",
              "      <td>2017-07-03T23:33:15Z</td>\n",
              "      <td>2017-06-07T09:04:00.000Z,2017-04-30T00:45:00.000Z</td>\n",
              "      <td>...</td>\n",
              "      <td>True</td>\n",
              "      <td>NaN</td>\n",
              "      <td>0.0</td>\n",
              "      <td>5.0</td>\n",
              "      <td>http://reviews.bestbuy.com/3545/5620406/review...</td>\n",
              "      <td>Inexpensive tablet for him to use and learn on...</td>\n",
              "      <td>Beginner tablet for our 9 year old son.</td>\n",
              "      <td>NaN</td>\n",
              "      <td>NaN</td>\n",
              "      <td>DaveZ</td>\n",
              "    </tr>\n",
              "    <tr>\n",
              "      <th>3</th>\n",
              "      <td>AVqkIhwDv8e3D1O-lebb</td>\n",
              "      <td>All-New Fire HD 8 Tablet, 8 HD Display, Wi-Fi,...</td>\n",
              "      <td>B01AHB9CN2</td>\n",
              "      <td>Amazon</td>\n",
              "      <td>Electronics,iPad &amp; Tablets,All Tablets,Fire Ta...</td>\n",
              "      <td>841667104676,amazon/53004484,amazon/b01ahb9cn2...</td>\n",
              "      <td>Amazon</td>\n",
              "      <td>2017-01-13T00:00:00.000Z</td>\n",
              "      <td>2017-07-03T23:33:15Z</td>\n",
              "      <td>2017-06-07T09:04:00.000Z,2017-04-30T00:45:00.000Z</td>\n",
              "      <td>...</td>\n",
              "      <td>True</td>\n",
              "      <td>NaN</td>\n",
              "      <td>0.0</td>\n",
              "      <td>4.0</td>\n",
              "      <td>http://reviews.bestbuy.com/3545/5620406/review...</td>\n",
              "      <td>I've had my Fire HD 8 two weeks now and I love...</td>\n",
              "      <td>Good!!!</td>\n",
              "      <td>NaN</td>\n",
              "      <td>NaN</td>\n",
              "      <td>Shacks</td>\n",
              "    </tr>\n",
              "    <tr>\n",
              "      <th>4</th>\n",
              "      <td>AVqkIhwDv8e3D1O-lebb</td>\n",
              "      <td>All-New Fire HD 8 Tablet, 8 HD Display, Wi-Fi,...</td>\n",
              "      <td>B01AHB9CN2</td>\n",
              "      <td>Amazon</td>\n",
              "      <td>Electronics,iPad &amp; Tablets,All Tablets,Fire Ta...</td>\n",
              "      <td>841667104676,amazon/53004484,amazon/b01ahb9cn2...</td>\n",
              "      <td>Amazon</td>\n",
              "      <td>2017-01-12T00:00:00.000Z</td>\n",
              "      <td>2017-07-03T23:33:15Z</td>\n",
              "      <td>2017-06-07T09:04:00.000Z,2017-04-30T00:45:00.000Z</td>\n",
              "      <td>...</td>\n",
              "      <td>True</td>\n",
              "      <td>NaN</td>\n",
              "      <td>0.0</td>\n",
              "      <td>5.0</td>\n",
              "      <td>http://reviews.bestbuy.com/3545/5620406/review...</td>\n",
              "      <td>I bought this for my grand daughter when she c...</td>\n",
              "      <td>Fantastic Tablet for kids</td>\n",
              "      <td>NaN</td>\n",
              "      <td>NaN</td>\n",
              "      <td>explore42</td>\n",
              "    </tr>\n",
              "  </tbody>\n",
              "</table>\n",
              "<p>5 rows × 21 columns</p>\n",
              "</div>\n",
              "      <button class=\"colab-df-convert\" onclick=\"convertToInteractive('df-b6e77cad-480a-4c79-ae8d-42d4c3ece666')\"\n",
              "              title=\"Convert this dataframe to an interactive table.\"\n",
              "              style=\"display:none;\">\n",
              "        \n",
              "  <svg xmlns=\"http://www.w3.org/2000/svg\" height=\"24px\"viewBox=\"0 0 24 24\"\n",
              "       width=\"24px\">\n",
              "    <path d=\"M0 0h24v24H0V0z\" fill=\"none\"/>\n",
              "    <path d=\"M18.56 5.44l.94 2.06.94-2.06 2.06-.94-2.06-.94-.94-2.06-.94 2.06-2.06.94zm-11 1L8.5 8.5l.94-2.06 2.06-.94-2.06-.94L8.5 2.5l-.94 2.06-2.06.94zm10 10l.94 2.06.94-2.06 2.06-.94-2.06-.94-.94-2.06-.94 2.06-2.06.94z\"/><path d=\"M17.41 7.96l-1.37-1.37c-.4-.4-.92-.59-1.43-.59-.52 0-1.04.2-1.43.59L10.3 9.45l-7.72 7.72c-.78.78-.78 2.05 0 2.83L4 21.41c.39.39.9.59 1.41.59.51 0 1.02-.2 1.41-.59l7.78-7.78 2.81-2.81c.8-.78.8-2.07 0-2.86zM5.41 20L4 18.59l7.72-7.72 1.47 1.35L5.41 20z\"/>\n",
              "  </svg>\n",
              "      </button>\n",
              "      \n",
              "  <style>\n",
              "    .colab-df-container {\n",
              "      display:flex;\n",
              "      flex-wrap:wrap;\n",
              "      gap: 12px;\n",
              "    }\n",
              "\n",
              "    .colab-df-convert {\n",
              "      background-color: #E8F0FE;\n",
              "      border: none;\n",
              "      border-radius: 50%;\n",
              "      cursor: pointer;\n",
              "      display: none;\n",
              "      fill: #1967D2;\n",
              "      height: 32px;\n",
              "      padding: 0 0 0 0;\n",
              "      width: 32px;\n",
              "    }\n",
              "\n",
              "    .colab-df-convert:hover {\n",
              "      background-color: #E2EBFA;\n",
              "      box-shadow: 0px 1px 2px rgba(60, 64, 67, 0.3), 0px 1px 3px 1px rgba(60, 64, 67, 0.15);\n",
              "      fill: #174EA6;\n",
              "    }\n",
              "\n",
              "    [theme=dark] .colab-df-convert {\n",
              "      background-color: #3B4455;\n",
              "      fill: #D2E3FC;\n",
              "    }\n",
              "\n",
              "    [theme=dark] .colab-df-convert:hover {\n",
              "      background-color: #434B5C;\n",
              "      box-shadow: 0px 1px 3px 1px rgba(0, 0, 0, 0.15);\n",
              "      filter: drop-shadow(0px 1px 2px rgba(0, 0, 0, 0.3));\n",
              "      fill: #FFFFFF;\n",
              "    }\n",
              "  </style>\n",
              "\n",
              "      <script>\n",
              "        const buttonEl =\n",
              "          document.querySelector('#df-b6e77cad-480a-4c79-ae8d-42d4c3ece666 button.colab-df-convert');\n",
              "        buttonEl.style.display =\n",
              "          google.colab.kernel.accessAllowed ? 'block' : 'none';\n",
              "\n",
              "        async function convertToInteractive(key) {\n",
              "          const element = document.querySelector('#df-b6e77cad-480a-4c79-ae8d-42d4c3ece666');\n",
              "          const dataTable =\n",
              "            await google.colab.kernel.invokeFunction('convertToInteractive',\n",
              "                                                     [key], {});\n",
              "          if (!dataTable) return;\n",
              "\n",
              "          const docLinkHtml = 'Like what you see? Visit the ' +\n",
              "            '<a target=\"_blank\" href=https://colab.research.google.com/notebooks/data_table.ipynb>data table notebook</a>'\n",
              "            + ' to learn more about interactive tables.';\n",
              "          element.innerHTML = '';\n",
              "          dataTable['output_type'] = 'display_data';\n",
              "          await google.colab.output.renderOutput(dataTable, element);\n",
              "          const docLink = document.createElement('div');\n",
              "          docLink.innerHTML = docLinkHtml;\n",
              "          element.appendChild(docLink);\n",
              "        }\n",
              "      </script>\n",
              "    </div>\n",
              "  </div>\n",
              "  "
            ]
          },
          "metadata": {},
          "execution_count": 17
        }
      ],
      "source": [
        "df = pd.read_csv('/content/1429_1.csv',engine=\"python\",encoding='utf-8',error_bad_lines=False)\n",
        "df.head()"
      ]
    },
    {
      "cell_type": "markdown",
      "metadata": {
        "id": "fQx_pN04k-ic"
      },
      "source": [
        "We need only one column which is review so we will take it out for trainig data."
      ]
    },
    {
      "cell_type": "code",
      "execution_count": 18,
      "metadata": {
        "colab": {
          "base_uri": "https://localhost:8080/"
        },
        "id": "LUc136y5kEI6",
        "outputId": "1472e36a-785c-43eb-d1fb-72668a39a3d7"
      },
      "outputs": [
        {
          "output_type": "execute_result",
          "data": {
            "text/plain": [
              "Index(['id', 'name', 'asins', 'brand', 'categories', 'keys', 'manufacturer',\n",
              "       'reviews.date', 'reviews.dateAdded', 'reviews.dateSeen',\n",
              "       'reviews.didPurchase', 'reviews.doRecommend', 'reviews.id',\n",
              "       'reviews.numHelpful', 'reviews.rating', 'reviews.sourceURLs',\n",
              "       'reviews.text', 'reviews.title', 'reviews.userCity',\n",
              "       'reviews.userProvince', 'reviews.username'],\n",
              "      dtype='object')"
            ]
          },
          "metadata": {},
          "execution_count": 18
        }
      ],
      "source": [
        "df.columns"
      ]
    },
    {
      "cell_type": "code",
      "execution_count": 19,
      "metadata": {
        "colab": {
          "base_uri": "https://localhost:8080/"
        },
        "id": "b8JOG1O5lFfO",
        "outputId": "b04bde1a-f64d-46d9-94cc-7f2f40db4091"
      },
      "outputs": [
        {
          "output_type": "execute_result",
          "data": {
            "text/plain": [
              "['This product so far has not disappointed. My children love to use it and I like the ability to monitor control what content they see with ease.',\n",
              " 'great for beginner or experienced person. Bought as a gift and she loves it',\n",
              " 'Inexpensive tablet for him to use and learn on, step up from the NABI. He was thrilled with it, learn how to Skype on it already...',\n",
              " \"I've had my Fire HD 8 two weeks now and I love it. This tablet is a great value.We are Prime Members and that is where this tablet SHINES. I love being able to easily access all of the Prime content as well as movies you can download and watch laterThis has a 1280/800 screen which has some really nice look to it its nice and crisp and very bright infact it is brighter then the ipad pro costing $900 base model. The build on this fire is INSANELY AWESOME running at only 7.7mm thick and the smooth glossy feel on the back it is really amazing to hold its like the futuristic tab in ur hands.\",\n",
              " 'I bought this for my grand daughter when she comes over to visit. I set it up with her as the user, entered her age and name and now Amazon makes sure that she only accesses sites and content that are appropriate to her age. Simple to do and she loves the capabilities. I also bought and installed a 64gig SD card which gives this little tablet plenty of storage. For the price I think this tablet is best one out there. You can spend hundreds of dollars more for additional speed and capacity but when it comes to the basics this tablets does everything that most people will ever need at a fraction of the cost.',\n",
              " 'This amazon fire 8 inch tablet is the perfect size. I purchased it for my husband so that he has a bigger screen than just his phone. He had gotten me one a few years ago so I knew it would be a good purchase.',\n",
              " 'Great for e-reading on the go, nice and light weight, and for the price point given, definitely worth the purchase.',\n",
              " 'I gave this as a Christmas gift to my inlaws, husband and uncle. They loved it and how easy they are to use with fantastic features!',\n",
              " 'Great as a device to read books. I like that it links with my borrowed library e-books. Switched from another popular tablet brand and I am happy with the choice I made. It took some time to get books from my previous non-Kindle reader, but finally figured out a way!',\n",
              " 'I love ordering books and reading them with the reader.']"
            ]
          },
          "metadata": {},
          "execution_count": 19
        }
      ],
      "source": [
        "# Extract text data for gensim fastText model\n",
        "df['reviews.text'] = df['reviews.text'].astype(str)\n",
        "sent = list(df['reviews.text'])\n",
        "#Print first 10 sentences\n",
        "sent[0:10]"
      ]
    },
    {
      "cell_type": "markdown",
      "metadata": {
        "id": "XMVpwDmOmHjF"
      },
      "source": [
        "Now, we will apply some preprocessing steps on the taken list of data."
      ]
    },
    {
      "cell_type": "code",
      "execution_count": 20,
      "metadata": {
        "id": "-AgkLfNnln45"
      },
      "outputs": [],
      "source": [
        "# Text cleaning \n",
        "def preprocess_text(text):\n",
        "\n",
        "        sen = text.lower()   # Converting to Lowercase     \n",
        "        document = re.sub(r'\\s+', ' ', sen, flags=re.I) # Remove extra white space from text\n",
        "        document = re.sub(r'\\W', ' ', str(document)) # Remove all the special characters from text      \n",
        "        tokens = document.split() # Word tokenization \n",
        "        lemma = [stemmer.lemmatize(word) for word in tokens] # Lemmatization using NLTK\n",
        "        clean_txt = [word for word in lemma if word not in en_stop] # Remove stop words\n",
        "                 \n",
        "        clean_txt = ' '.join(clean_txt)\n",
        " \n",
        "        return clean_txt"
      ]
    },
    {
      "cell_type": "code",
      "execution_count": 21,
      "metadata": {
        "colab": {
          "base_uri": "https://localhost:8080/"
        },
        "id": "EASodQIhnqo6",
        "outputId": "adff2823-6065-491b-abfe-b52104820f38"
      },
      "outputs": [
        {
          "output_type": "stream",
          "name": "stderr",
          "text": [
            "100%|██████████| 34660/34660 [00:04<00:00, 7581.09it/s]\n"
          ]
        }
      ],
      "source": [
        "clean_text = [preprocess_text(text) for text in tqdm(sent)]"
      ]
    },
    {
      "cell_type": "markdown",
      "metadata": {
        "id": "lgfsTcJutwvC"
      },
      "source": [
        "We can see the difference between original and cleaned text"
      ]
    },
    {
      "cell_type": "code",
      "execution_count": 22,
      "metadata": {
        "colab": {
          "base_uri": "https://localhost:8080/"
        },
        "id": "rDCCp9J8tuQw",
        "outputId": "11b66e14-fc2a-4ea4-84b7-f8a118515975"
      },
      "outputs": [
        {
          "output_type": "stream",
          "name": "stdout",
          "text": [
            "Original\n",
            "This product so far has not disappointed. My children love to use it and I like the ability to monitor control what content they see with ease.\n",
            "----------------\n",
            "Cleaned_Text\n",
            "product far ha disappointed child love use like ability monitor control content see ease\n"
          ]
        }
      ],
      "source": [
        "print(\"Original\")\n",
        "print(sent[0])\n",
        "print(\"----------------\")\n",
        "print(\"Cleaned_Text\")\n",
        "print(clean_text[0])"
      ]
    },
    {
      "cell_type": "markdown",
      "metadata": {
        "id": "3XkMfq0aupaR"
      },
      "source": [
        "Next step is to tokenize the data "
      ]
    },
    {
      "cell_type": "code",
      "execution_count": 23,
      "metadata": {
        "colab": {
          "base_uri": "https://localhost:8080/"
        },
        "id": "0DEaSi3ft3CD",
        "outputId": "ab2d88b1-5c7d-4b43-b252-09c6de4d34ff"
      },
      "outputs": [
        {
          "output_type": "stream",
          "name": "stderr",
          "text": [
            "100%|██████████| 34660/34660 [00:00<00:00, 85581.11it/s]\n"
          ]
        },
        {
          "output_type": "execute_result",
          "data": {
            "text/plain": [
              "['product',\n",
              " 'far',\n",
              " 'ha',\n",
              " 'disappointed',\n",
              " 'child',\n",
              " 'love',\n",
              " 'use',\n",
              " 'like',\n",
              " 'ability',\n",
              " 'monitor',\n",
              " 'control',\n",
              " 'content',\n",
              " 'see',\n",
              " 'ease']"
            ]
          },
          "metadata": {},
          "execution_count": 23
        }
      ],
      "source": [
        "tokenizer = nltk.WhitespaceTokenizer()\n",
        "tokens = [tokenizer.tokenize(text) for text in tqdm(clean_text)]\n",
        "tokens[0]"
      ]
    },
    {
      "cell_type": "markdown",
      "metadata": {
        "id": "ydx3xKycwCca"
      },
      "source": [
        "Train Gensim fastText on our dataset"
      ]
    },
    {
      "cell_type": "code",
      "execution_count": 25,
      "metadata": {
        "id": "6motR87evYhz"
      },
      "outputs": [],
      "source": [
        "# Defining values for parameters\n",
        "embedding_size = 300\n",
        "window_size = 5\n",
        "min_word = 5\n",
        "down_sampling = 1e-2\n",
        "\n",
        "fast_Text_model = FastText(tokens,\n",
        "                      size=embedding_size,\n",
        "                      window=window_size,\n",
        "                      min_count=min_word,\n",
        "                      sample=down_sampling,\n",
        "                      workers = 4,\n",
        "                      sg=1,\n",
        "                      iter=50)"
      ]
    },
    {
      "cell_type": "markdown",
      "source": [
        "Save & Load Gensim fastText word embeddings"
      ],
      "metadata": {
        "id": "L_MgCO9wWmqy"
      }
    },
    {
      "cell_type": "code",
      "execution_count": 27,
      "metadata": {
        "id": "m07Xz92bwX_5"
      },
      "outputs": [],
      "source": [
        "from gensim.models import Word2Vec\n",
        "# Save fastText gensim model\n",
        "fast_Text_model.save(\"ft_model_amazon\")\n",
        "# Load saved gensim fastText model\n",
        "fast_Text_model = Word2Vec.load(\"ft_model_amazon\")"
      ]
    },
    {
      "cell_type": "code",
      "source": [
        "# Check word embedding for a perticular word\n",
        "fast_Text_model.wv['product']"
      ],
      "metadata": {
        "colab": {
          "base_uri": "https://localhost:8080/"
        },
        "id": "9qtyX-NFWu5B",
        "outputId": "ad3b5b45-647e-4a49-fa3f-58ba5fd10f4d"
      },
      "execution_count": 28,
      "outputs": [
        {
          "output_type": "execute_result",
          "data": {
            "text/plain": [
              "array([-0.31524986,  0.10528483,  0.08850635,  0.09190569, -0.13792819,\n",
              "        0.20660359,  0.08081829,  0.19337294,  0.04058719, -0.06584456,\n",
              "       -0.14765674, -0.50084764,  0.06994885, -0.16741131,  0.11546993,\n",
              "       -0.03662247, -0.01515792,  0.07208969, -0.02375572, -0.084629  ,\n",
              "       -0.2240939 , -0.24010637, -0.3512583 ,  0.01366358,  0.01912205,\n",
              "       -0.17117701, -0.17112412, -0.18312378, -0.07471178,  0.21771039,\n",
              "       -0.08877654, -0.0595242 , -0.06291813,  0.19698647, -0.07792116,\n",
              "       -0.17665558,  0.1924642 ,  0.17183335, -0.22136603, -0.06875887,\n",
              "       -0.09541756,  0.286275  ,  0.27297056,  0.30020133, -0.14023323,\n",
              "        0.30191037,  0.06271704, -0.17303045, -0.05804997, -0.12805137,\n",
              "        0.06593743,  0.04029306, -0.04164946,  0.07457568,  0.1920208 ,\n",
              "        0.09890736, -0.00628315,  0.05562716,  0.09317791,  0.2832649 ,\n",
              "       -0.10185847,  0.22989245, -0.01489423, -0.40609887, -0.12945913,\n",
              "        0.07908113,  0.11777987, -0.12937364,  0.01851993, -0.23629142,\n",
              "        0.08489862,  0.03624962,  0.10821285,  0.19559307, -0.23593827,\n",
              "       -0.05950058, -0.17761052,  0.1859454 ,  0.22336717, -0.22210608,\n",
              "        0.06532895,  0.1162416 ,  0.02833819,  0.0644437 , -0.05510927,\n",
              "       -0.07575797, -0.05577128, -0.37047875,  0.26250806,  0.14185941,\n",
              "        0.14449605,  0.03408035,  0.13780156,  0.04706544,  0.0996765 ,\n",
              "        0.3116787 ,  0.12654047, -0.00314753,  0.05587542,  0.11722436,\n",
              "        0.30633998, -0.12239507,  0.08049883,  0.27036226,  0.12358347,\n",
              "        0.27381817,  0.18770802, -0.2931662 , -0.43656674, -0.25199962,\n",
              "        0.12694788, -0.0673748 , -0.05272985, -0.07455229, -0.11078177,\n",
              "        0.10774533, -0.19024643,  0.07519523,  0.11834396, -0.14122038,\n",
              "       -0.1226748 ,  0.02270761, -0.15393041, -0.2977707 ,  0.16285522,\n",
              "       -0.05072239, -0.02253764,  0.00842101,  0.14800735,  0.08857333,\n",
              "       -0.08036461,  0.03289412, -0.11194465,  0.0043454 , -0.22066624,\n",
              "        0.09651452, -0.12588015, -0.06007265, -0.0467817 ,  0.20278357,\n",
              "       -0.16166048,  0.09573466, -0.07633368,  0.07795874,  0.06281072,\n",
              "        0.0019942 ,  0.04024183,  0.12567462, -0.12626636,  0.09083149,\n",
              "       -0.06759178,  0.3360237 , -0.18706678, -0.17373018, -0.03709077,\n",
              "        0.17221086, -0.00152429,  0.18735056,  0.04792921,  0.27799228,\n",
              "        0.12813222, -0.05508103, -0.16187124, -0.1867349 ,  0.06604737,\n",
              "        0.21491888, -0.16383874,  0.20106535,  0.02843043, -0.09230199,\n",
              "       -0.14528245, -0.02278125,  0.10553447, -0.10830784, -0.5940618 ,\n",
              "        0.0375514 , -0.1088228 , -0.11053564,  0.19023788, -0.20118137,\n",
              "       -0.3150873 ,  0.12327676, -0.04847272,  0.00202183,  0.0379321 ,\n",
              "        0.26198378,  0.0937359 ,  0.01047262, -0.14723416,  0.19382966,\n",
              "       -0.08065273, -0.08912642,  0.08359476,  0.24668756, -0.03794606,\n",
              "        0.28247187,  0.29168198, -0.17511527,  0.16706593, -0.07165504,\n",
              "        0.06751759, -0.22191489, -0.08200849, -0.06798292,  0.01145455,\n",
              "       -0.00227712,  0.07171767, -0.06300983, -0.21483208, -0.02466108,\n",
              "       -0.07182769, -0.11869637,  0.04666634, -0.04015276,  0.05889851,\n",
              "       -0.02006805, -0.00371285,  0.08914819,  0.00832618,  0.11599356,\n",
              "        0.27135837,  0.17333002,  0.10126905,  0.01279184, -0.09309147,\n",
              "        0.06736915,  0.18749592,  0.05718088, -0.06890645,  0.05437937,\n",
              "        0.01072567, -0.07716542,  0.11420488,  0.09050716,  0.02718052,\n",
              "       -0.00485333, -0.05938205, -0.187905  ,  0.01664082, -0.24784492,\n",
              "        0.11754386,  0.13453533, -0.07256115, -0.09371935,  0.11885388,\n",
              "        0.1811696 ,  0.3111214 , -0.02883248,  0.01935662, -0.03093773,\n",
              "        0.04460847,  0.33419394, -0.02753737, -0.01523996, -0.03211285,\n",
              "        0.170541  ,  0.02401692,  0.31705636,  0.22017416, -0.14573659,\n",
              "        0.20339406, -0.06926215,  0.02812139,  0.00677355,  0.01594923,\n",
              "       -0.1047236 ,  0.13567023,  0.09996308,  0.11857713, -0.1399514 ,\n",
              "       -0.00749317, -0.0255767 , -0.01675454,  0.21219875, -0.27458772,\n",
              "        0.1107825 ,  0.15652664,  0.09728293, -0.06324489,  0.05428883,\n",
              "        0.1478071 , -0.0227031 , -0.15379333,  0.14110972, -0.2284358 ,\n",
              "        0.19017257,  0.33128673,  0.02061697, -0.13435435, -0.06255709,\n",
              "       -0.11416835, -0.2927694 , -0.04782424, -0.10552399,  0.00798925,\n",
              "       -0.23575349, -0.06339087, -0.11581168, -0.08733715, -0.35212675],\n",
              "      dtype=float32)"
            ]
          },
          "metadata": {},
          "execution_count": 28
        }
      ]
    },
    {
      "cell_type": "code",
      "source": [
        "# Dimention must be 300\n",
        "fast_Text_model.wv['product'].shape"
      ],
      "metadata": {
        "colab": {
          "base_uri": "https://localhost:8080/"
        },
        "id": "Te3LD8pcX97O",
        "outputId": "41e3f78f-aa0f-4d09-b747-1d7933bed0d4"
      },
      "execution_count": 31,
      "outputs": [
        {
          "output_type": "execute_result",
          "data": {
            "text/plain": [
              "(300,)"
            ]
          },
          "metadata": {},
          "execution_count": 31
        }
      ]
    },
    {
      "cell_type": "code",
      "source": [
        "# Check top 10 similar word for a given word by gensim fastText\n",
        "fast_Text_model.wv.most_similar('product', topn=10)"
      ],
      "metadata": {
        "colab": {
          "base_uri": "https://localhost:8080/"
        },
        "id": "Y31UbbbsYCVD",
        "outputId": "0584cc54-147b-424f-b44b-2e2b46e5c787"
      },
      "execution_count": 32,
      "outputs": [
        {
          "output_type": "execute_result",
          "data": {
            "text/plain": [
              "[('production', 0.4097890257835388),\n",
              " ('produce', 0.36762359738349915),\n",
              " ('productive', 0.3480420410633087),\n",
              " ('promise', 0.33817940950393677),\n",
              " ('produced', 0.33438074588775635),\n",
              " ('reccommend', 0.3263065218925476),\n",
              " ('promised', 0.3194241523742676),\n",
              " ('item', 0.2935600280761719),\n",
              " ('reccomend', 0.2876128554344177),\n",
              " ('wdtv', 0.28692740201950073)]"
            ]
          },
          "metadata": {},
          "execution_count": 32
        }
      ]
    },
    {
      "cell_type": "code",
      "source": [
        "# Check top 10 similarity score between two word\n",
        "fast_Text_model.wv.similarity('reccomend', 'item')"
      ],
      "metadata": {
        "colab": {
          "base_uri": "https://localhost:8080/"
        },
        "id": "O4mx1fxxYFN3",
        "outputId": "98e0c16e-6c91-45a2-bd15-36dcc575a39d"
      },
      "execution_count": 33,
      "outputs": [
        {
          "output_type": "execute_result",
          "data": {
            "text/plain": [
              "0.10066338"
            ]
          },
          "metadata": {},
          "execution_count": 33
        }
      ]
    },
    {
      "cell_type": "markdown",
      "source": [
        "FastText word embeddings visualization using tsne"
      ],
      "metadata": {
        "id": "sDMaTbS0Yd-r"
      }
    },
    {
      "cell_type": "code",
      "source": [
        "# tsne plot for below word\n",
        "def tsne_plot(for_word, w2v_model):\n",
        "    # trained fastText model dimention\n",
        "    dim_size = w2v_model.wv.vectors.shape[1]\n",
        " \n",
        "    arrays = np.empty((0, dim_size), dtype='f')\n",
        "    word_labels = [for_word]\n",
        "    color_list  = ['red']\n",
        " \n",
        "    # adds the vector of the query word\n",
        "    arrays = np.append(arrays, w2v_model.wv.__getitem__([for_word]), axis=0)\n",
        " \n",
        "    # gets list of most similar words\n",
        "    sim_words = w2v_model.wv.most_similar(for_word, topn=10)\n",
        " \n",
        "    # adds the vector for each of the closest words to the array\n",
        "    for wrd_score in sim_words:\n",
        "        wrd_vector = w2v_model.wv.__getitem__([wrd_score[0]])\n",
        "        word_labels.append(wrd_score[0])\n",
        "        color_list.append('green')\n",
        "        arrays = np.append(arrays, wrd_vector, axis=0)\n",
        " \n",
        "    #---------------------- Apply PCA and tsne to reduce dimention --------------\n",
        " \n",
        "    # fit 2d PCA model to the similar word vectors\n",
        "    model_pca = PCA(n_components = 10).fit_transform(arrays)\n",
        " \n",
        "    # Finds 2d coordinates t-SNE\n",
        "    np.set_printoptions(suppress=True)\n",
        "    Y = TSNE(n_components=2, random_state=0, perplexity=15).fit_transform(model_pca)\n",
        " \n",
        "    # Sets everything up to plot\n",
        "    df_plot = pd.DataFrame({'x': [x for x in Y[:, 0]],\n",
        "                       'y': [y for y in Y[:, 1]],\n",
        "                       'words_name': word_labels,\n",
        "                       'words_color': color_list})\n",
        " \n",
        "    #------------------------- tsne plot Python -----------------------------------\n",
        " \n",
        "    # plot dots with color and position\n",
        "    plot_dot = sns.regplot(data=df_plot,\n",
        "                     x=\"x\",\n",
        "                     y=\"y\",\n",
        "                     fit_reg=False,\n",
        "                     marker=\"o\",\n",
        "                     scatter_kws={'s': 40,\n",
        "                                  'facecolors': df_plot['words_color']\n",
        "                                 }\n",
        "                    )\n",
        " \n",
        "    # Adds annotations with color one by one with a loop\n",
        "    for line in range(0, df_plot.shape[0]):\n",
        "         plot_dot.text(df_plot[\"x\"][line],\n",
        "                 df_plot['y'][line],\n",
        "                 '  ' + df_plot[\"words_name\"][line].title(),\n",
        "                 horizontalalignment='left',\n",
        "                 verticalalignment='bottom', size='medium',\n",
        "                 color=df_plot['words_color'][line],\n",
        "                 weight='normal'\n",
        "                ).set_size(15)\n",
        " \n",
        " \n",
        "    plt.xlim(Y[:, 0].min()-50, Y[:, 0].max()+50)\n",
        "    plt.ylim(Y[:, 1].min()-50, Y[:, 1].max()+50)\n",
        " \n",
        "    plt.title('t-SNE visualization for word \"{}'.format(for_word.title()) +'\"')"
      ],
      "metadata": {
        "id": "6YP8yJ-zYTWG"
      },
      "execution_count": 34,
      "outputs": []
    },
    {
      "cell_type": "code",
      "source": [
        "# tsne plot for top 10 similar word to 'product'\n",
        "tsne_plot(for_word='product', w2v_model=fast_Text_model)"
      ],
      "metadata": {
        "colab": {
          "base_uri": "https://localhost:8080/",
          "height": 384
        },
        "id": "DTDy9rizYnty",
        "outputId": "9066b2fa-87ca-4b37-a807-8cae076acafc"
      },
      "execution_count": 35,
      "outputs": [
        {
          "output_type": "stream",
          "name": "stderr",
          "text": [
            "/usr/local/lib/python3.7/dist-packages/sklearn/manifold/_t_sne.py:783: FutureWarning: The default initialization in TSNE will change from 'random' to 'pca' in 1.2.\n",
            "  FutureWarning,\n",
            "/usr/local/lib/python3.7/dist-packages/sklearn/manifold/_t_sne.py:793: FutureWarning: The default learning rate in TSNE will change from 200.0 to 'auto' in 1.2.\n",
            "  FutureWarning,\n"
          ]
        },
        {
          "output_type": "display_data",
          "data": {
            "text/plain": [
              "<Figure size 432x288 with 1 Axes>"
            ],
            "image/png": "[encoded data removed]"
          },
          "metadata": {
            "needs_background": "light"
          }
        }
      ]
    },
    {
      "cell_type": "markdown",
      "source": [
        "Working with Gensim fastText pre-trained model"
      ],
      "metadata": {
        "id": "xz8TwbIoYw44"
      }
    },
    {
      "cell_type": "code",
      "source": [
        "!wget https://dl.fbaipublicfiles.com/fasttext/vectors-english/wiki-news-300d-1M-subword.bin.zip"
      ],
      "metadata": {
        "colab": {
          "base_uri": "https://localhost:8080/"
        },
        "id": "eBd8Yo2wcTf3",
        "outputId": "382e44b0-b705-4e45-ffee-8837253d5581"
      },
      "execution_count": 42,
      "outputs": [
        {
          "output_type": "stream",
          "name": "stdout",
          "text": [
            "--2022-08-02 07:24:42--  https://dl.fbaipublicfiles.com/fasttext/vectors-english/wiki-news-300d-1M-subword.bin.zip\n",
            "Resolving dl.fbaipublicfiles.com (dl.fbaipublicfiles.com)... 104.22.75.142, 104.22.74.142, 172.67.9.4, ...\n",
            "Connecting to dl.fbaipublicfiles.com (dl.fbaipublicfiles.com)|104.22.75.142|:443... connected.\n",
            "HTTP request sent, awaiting response... 200 OK\n",
            "Length: 4501919899 (4.2G) [application/zip]\n",
            "Saving to: ‘wiki-news-300d-1M-subword.bin.zip’\n",
            "\n",
            "wiki-news-300d-1M-s 100%[===================>]   4.19G  9.09MB/s    in 8m 26s  \n",
            "\n",
            "2022-08-02 07:33:09 (8.49 MB/s) - ‘wiki-news-300d-1M-subword.bin.zip’ saved [4501919899/4501919899]\n",
            "\n"
          ]
        }
      ]
    },
    {
      "cell_type": "code",
      "source": [
        "!unzip \"/content/wiki-news-300d-1M-subword.bin.zip\""
      ],
      "metadata": {
        "colab": {
          "base_uri": "https://localhost:8080/"
        },
        "id": "TAVBtKsIeYNk",
        "outputId": "5cee6438-2a3a-4ad6-81f1-287958c3e8a7"
      },
      "execution_count": 45,
      "outputs": [
        {
          "output_type": "stream",
          "name": "stdout",
          "text": [
            "Archive:  /content/wiki-news-300d-1M-subword.bin.zip\n",
            "  inflating: wiki-news-300d-1M-subword.bin  \n"
          ]
        }
      ]
    },
    {
      "cell_type": "code",
      "source": [
        "import fasttext\n",
        "model = fasttext.load_model(\"/content/wiki-news-300d-1M-subword.bin\")"
      ],
      "metadata": {
        "colab": {
          "base_uri": "https://localhost:8080/"
        },
        "id": "pC8UnQDgY1Xc",
        "outputId": "7b357b27-ce30-4e4e-fe07-1ea16d86bfd9"
      },
      "execution_count": 46,
      "outputs": [
        {
          "output_type": "stream",
          "name": "stderr",
          "text": [
            "Warning : `load_model` does not return WordVectorModel or SupervisedModel any more, but a `FastText` object which is very similar.\n"
          ]
        }
      ]
    },
    {
      "cell_type": "code",
      "source": [
        "# tsne plot for top 10 similar word to 'food'\n",
        "#tsne_plot(for_word='product', w2v_model=model)\n",
        "model.get_nearest_neighbors(\"product\",k=10)"
      ],
      "metadata": {
        "colab": {
          "base_uri": "https://localhost:8080/"
        },
        "id": "iYqtpSfacLP6",
        "outputId": "c5ba32f8-ccd1-46f6-8e1d-52000e52355d"
      },
      "execution_count": 48,
      "outputs": [
        {
          "output_type": "execute_result",
          "data": {
            "text/plain": [
              "[(0.7656861543655396, 'products'),\n",
              " (0.7636412978172302, 'product-line'),\n",
              " (0.759248673915863, 'one-product'),\n",
              " (0.7386252880096436, 'end-product'),\n",
              " (0.7352990508079529, 'workproduct'),\n",
              " (0.7343631386756897, 'product-'),\n",
              " (0.7333365678787231, 'product--'),\n",
              " (0.72476726770401, 'single-product'),\n",
              " (0.7188858389854431, 'work-product'),\n",
              " (0.7186290621757507, 'product-quality')]"
            ]
          },
          "metadata": {},
          "execution_count": 48
        }
      ]
    },
    {
      "cell_type": "markdown",
      "source": [
        "We can compare ourt trained model and Pre trained model results"
      ],
      "metadata": {
        "id": "v3nE7FqJg15-"
      }
    },
    {
      "cell_type": "code",
      "source": [
        "# Check top 10 similar word for a given word by gensim fastText\n",
        "fast_Text_model.wv.most_similar('product', topn=10)"
      ],
      "metadata": {
        "colab": {
          "base_uri": "https://localhost:8080/"
        },
        "id": "DrXXcyoPfAP_",
        "outputId": "bdbe6023-934e-4e49-a09c-7cfbe3a9aae1"
      },
      "execution_count": 49,
      "outputs": [
        {
          "output_type": "execute_result",
          "data": {
            "text/plain": [
              "[('production', 0.4097890257835388),\n",
              " ('produce', 0.36762359738349915),\n",
              " ('productive', 0.3480420410633087),\n",
              " ('promise', 0.33817940950393677),\n",
              " ('produced', 0.33438074588775635),\n",
              " ('reccommend', 0.3263065218925476),\n",
              " ('promised', 0.3194241523742676),\n",
              " ('item', 0.2935600280761719),\n",
              " ('reccomend', 0.2876128554344177),\n",
              " ('wdtv', 0.28692740201950073)]"
            ]
          },
          "metadata": {},
          "execution_count": 49
        }
      ]
    },
    {
      "cell_type": "code",
      "source": [
        ""
      ],
      "metadata": {
        "id": "RvGGJzYlgCaW"
      },
      "execution_count": null,
      "outputs": []
    }
  ],
  "metadata": {
    "colab": {
      "name": "FastText.ipynb",
      "provenance": [],
      "authorship_tag": "ABX9TyMxBsISai4R7KGaBNZxsqlG",
      "include_colab_link": true
    },
    "kernelspec": {
      "display_name": "Python 3",
      "name": "python3"
    },
    "language_info": {
      "name": "python"
    },
    "accelerator": "GPU",
    "gpuClass": "standard"
  },
  "nbformat": 4,
  "nbformat_minor": 0
}